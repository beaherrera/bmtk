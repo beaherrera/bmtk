{
 "cells": [
  {
   "cell_type": "markdown",
   "id": "b0477c1f-ba3f-48bf-9510-c95a59f49da4",
   "metadata": {},
   "source": [
    "# Advanced Methods for Driving your Network with Synapic Spike-trains"
   ]
  },
  {
   "cell_type": "markdown",
   "id": "cacc6a76-0928-42dd-9257-009a3a628810",
   "metadata": {},
   "source": [
    "BMTK is designed to build and simulate large-scale, realistic models of the nervous system. Most of these realistic simulations require the ability to recreate the kinds of synaptic input you would expect to see in vivo. To achieve this, modelers need to be able to generate the relevant spike trains that drive the synaptic stimuli of our simulations.\n",
    "\n",
    "We have other tutorials demonstrating how to generate realistic stimuli using [FilterNet](). We have also shown how to use the BMTK [SpikeTrain]() and [PoissonSpikeTrain]() classes to generate input spike trains. In these cases, users must generate SONATA spike-train files before running their simulations. However, BMTK has additional methods for users to generate and import spike-train stimuli into their simulations. It includes using other formats besides SONATA, importing experimental data, and more fine-grained control of how and where cells within a network receive synaptic stimuli.\n",
    "\n",
    "We will cover some of such methods in this tutorial.\n",
    "\n",
    "**Note** - scripts and files for running this tutorial can be found in the directory [03_opt_advanced_spiking_inputs/](https://github.com/AllenInstitute/bmtk/tree/develop/docs/tutorial/03_opt_advanced_spiking_inputs)"
   ]
  },
  {
   "cell_type": "markdown",
   "id": "7d5ef55a-c1ee-4173-932f-998f916672b5",
   "metadata": {},
   "source": [
    "---\n",
    "\n",
    "## Contents\n",
    "1. [Example: Spike-train inputs from a custom created csv file](#example-spikes-from-csv)\n",
    "2. [Example: Dynamically generating spike-trains with cusom function](#example-spikes-from-func)\n",
    "3. [Example: Incorporating in-vivo NWB spiking data into your simulation](#example-spikes-from-nwb)\n",
    "4. [Example: Forcing spotonaneous synaptic activity within a network](#example-spikes-from-spont)\n",
    "\n",
    "---"
   ]
  },
  {
   "cell_type": "markdown",
   "id": "7e7cd5bb-39cb-4a78-99f1-0db8e4b15d19",
   "metadata": {},
   "source": [
    "## 1. Example: Using spikes from CSV <a class=\"anchor\" id=\"example-spikes-from-csv\">"
   ]
  },
  {
   "cell_type": "markdown",
   "id": "ee0fbbe4-28eb-466d-9173-05072374f05e",
   "metadata": {},
   "source": [
    "In [Tutorial 2](https://github.com/AllenInstitute/bmtk/blob/develop/docs/tutorial/02_single_cell_syn.ipynb), we demonstrated how to generate network spikes using the BMTK's built-in PoissonSpikeGenerator class, which will produce a series of spike trains using the distribution parameters/functions we give it and save it to a SONATA spikes file using to `to_sonata` method. But BMTK also allows input spikes to be saved and loaded using a simpler space-separated CSV file, which, in many cases, can be easier to analyze and use with other programs.\n",
    "\n",
    "For example, in the **network_simple_spikes/** folder (built using `build_network.simple_spikes.py`), we have a set of 10 virtual nodes that synaptically drive our simulation. If we want each one to fire at a constant 10Hz firing rate over a 5-second interval, we can use PoissonSpikeGenerator's `to_csv()` class to save the spikes as a CSV file."
   ]
  },
  {
   "cell_type": "code",
   "execution_count": 1,
   "id": "cdaa014a-4da1-47ae-aa2c-1a71f4e7ed88",
   "metadata": {},
   "outputs": [],
   "source": [
    "from bmtk.utils.reports.spike_trains import PoissonSpikeGenerator\n",
    "\n",
    "psg = PoissonSpikeGenerator()\n",
    "psg.add(\n",
    "    node_ids='network_csv_spikes/inputs_nodes.h5', \n",
    "    firing_rate=10.0, \n",
    "    times=(0.0, 5.0),\n",
    "    population='inputs'\n",
    ")\n",
    "psg.to_csv('inputs/simple_spikes.csv')"
   ]
  },
  {
   "cell_type": "markdown",
   "id": "ff9a62f1-46e3-406b-87a3-0cdd6f02f72a",
   "metadata": {},
   "source": [
    "Now, we can use any text editor or CSV reader (like pandas) to read in our spikes for verification and analysis."
   ]
  },
  {
   "cell_type": "code",
   "execution_count": 2,
   "id": "a85348f1-2095-43aa-a986-2988b2968433",
   "metadata": {},
   "outputs": [
    {
     "name": "stdout",
     "output_type": "stream",
     "text": [
      "Number of cells in spikes-file: 10 (expected: 5)\n",
      "Avg. number of spikes per cell: 50.1 (expected: 5sec x 10Hz ~ 50)\n",
      "Min spike-time: 17.593944539645307 ms\n",
      "Max spike-time: 4998.560456807771 ms\n"
     ]
    },
    {
     "data": {
      "text/html": [
       "<div>\n",
       "<style scoped>\n",
       "    .dataframe tbody tr th:only-of-type {\n",
       "        vertical-align: middle;\n",
       "    }\n",
       "\n",
       "    .dataframe tbody tr th {\n",
       "        vertical-align: top;\n",
       "    }\n",
       "\n",
       "    .dataframe thead th {\n",
       "        text-align: right;\n",
       "    }\n",
       "</style>\n",
       "<table border=\"1\" class=\"dataframe\">\n",
       "  <thead>\n",
       "    <tr style=\"text-align: right;\">\n",
       "      <th></th>\n",
       "      <th>timestamps</th>\n",
       "      <th>population</th>\n",
       "      <th>node_ids</th>\n",
       "    </tr>\n",
       "  </thead>\n",
       "  <tbody>\n",
       "    <tr>\n",
       "      <th>0</th>\n",
       "      <td>40.425085</td>\n",
       "      <td>inputs</td>\n",
       "      <td>0</td>\n",
       "    </tr>\n",
       "    <tr>\n",
       "      <th>1</th>\n",
       "      <td>326.168408</td>\n",
       "      <td>inputs</td>\n",
       "      <td>0</td>\n",
       "    </tr>\n",
       "    <tr>\n",
       "      <th>2</th>\n",
       "      <td>434.783000</td>\n",
       "      <td>inputs</td>\n",
       "      <td>0</td>\n",
       "    </tr>\n",
       "    <tr>\n",
       "      <th>3</th>\n",
       "      <td>821.277923</td>\n",
       "      <td>inputs</td>\n",
       "      <td>0</td>\n",
       "    </tr>\n",
       "    <tr>\n",
       "      <th>4</th>\n",
       "      <td>847.735538</td>\n",
       "      <td>inputs</td>\n",
       "      <td>0</td>\n",
       "    </tr>\n",
       "  </tbody>\n",
       "</table>\n",
       "</div>"
      ],
      "text/plain": [
       "   timestamps population  node_ids\n",
       "0   40.425085     inputs         0\n",
       "1  326.168408     inputs         0\n",
       "2  434.783000     inputs         0\n",
       "3  821.277923     inputs         0\n",
       "4  847.735538     inputs         0"
      ]
     },
     "execution_count": 2,
     "metadata": {},
     "output_type": "execute_result"
    }
   ],
   "source": [
    "import pandas as pd\n",
    "\n",
    "spikes_inputs = pd.read_csv('inputs/simple_spikes.csv', sep=' ')\n",
    "\n",
    "# Let's quickly check that our csv file makes sense\n",
    "n_nodes = spikes_inputs['node_ids'].unique().shape[0]\n",
    "n_spikes = spikes_inputs.shape[0]\n",
    "\n",
    "print(f'Number of cells in spikes-file: {n_nodes} (expected: 5)')\n",
    "print(f'Avg. number of spikes per cell: {n_spikes/n_nodes} (expected: 5sec x 10Hz ~ 50)')\n",
    "print(f'Min spike-time: {spikes_inputs[\"timestamps\"].min()} ms')\n",
    "print(f'Max spike-time: {spikes_inputs[\"timestamps\"].max()} ms')\n",
    "\n",
    "spikes_inputs.head()"
   ]
  },
  {
   "cell_type": "markdown",
   "id": "27aca5aa-2136-4651-bbed-66981c132591",
   "metadata": {},
   "source": [
    "Then, when running the simulation, we can do so as we previously did with SONATA spike files, but the difference is that the **module** type for the given input must be changed from `sonata` to `csv`:\n",
    "\n",
    "```json\n",
    "  \"inputs\": {\n",
    "    \"csv_spikes\": {\n",
    "      \"input_type\": \"spikes\",\n",
    "      \"module\": \"csv\",\n",
    "      \"input_file\": \"./inputs/simple_spikes.csv\",\n",
    "      \"node_set\": \"inputs\"\n",
    "    }\n",
    "  },"
   ]
  },
  {
   "cell_type": "markdown",
   "id": "c1efd9ab-888c-4b52-8caf-38f4744d2ba5",
   "metadata": {},
   "source": [
    "### Creating your own csv file"
   ]
  },
  {
   "cell_type": "markdown",
   "id": "655dbe88-d071-48cc-a691-2802ef66a809",
   "metadata": {},
   "source": [
    "You can create your own spike-train CSV file if you don't want to use the `PoissonSpikeGenerator` class. As we can see from above, it needs to be a space-separated text file with columns **timestamps**, **population**, and **node_ids** (order doesn't matter). Each row indicates a separate spike, with the **population** + **node_ids** columns indicating the node/cell that fired and **timestamps** (in milliseconds) indicating when it fired.\n",
    "\n",
    "For example, we can use the Python CSV writer class to create an example input file where each cell has an increasing firing rate."
   ]
  },
  {
   "cell_type": "code",
   "execution_count": 3,
   "id": "e3b0e902-dd4c-4468-ac43-a97bf372d08f",
   "metadata": {},
   "outputs": [],
   "source": [
    "import csv\n",
    "import numpy as np\n",
    "\n",
    "with open('inputs/custom_spikes.csv', 'w') as csvfile:\n",
    "    csvwriter = csv.writer(csvfile, delimiter=' ', quotechar='#')\n",
    "\n",
    "    # write the header\n",
    "    csvwriter.writerow(['timestamps', 'population', 'node_ids'])\n",
    "    \n",
    "    # For node 0 we have it fire randomly at 1 Hz for 5 seconds, for node 1 at 2Hz, etc.\n",
    "    for node_id in range(10):\n",
    "        for timestamp in np.sort(np.random.uniform(0.0, 5000.0, size=(node_id+1)*5)):\n",
    "            csvwriter.writerow([timestamp, 'inputs', node_id])"
   ]
  },
  {
   "cell_type": "code",
   "execution_count": 4,
   "id": "019f03cf-18dc-4e88-985f-275c6ce4cb3b",
   "metadata": {},
   "outputs": [
    {
     "data": {
      "image/png": "[encoded data removed]",
      "text/plain": [
       "<Figure size 640x480 with 1 Axes>"
      ]
     },
     "metadata": {},
     "output_type": "display_data"
    }
   ],
   "source": [
    "from bmtk.analyzer.spike_trains import plot_raster\n",
    "\n",
    "_ = plot_raster(spikes_file='inputs/custom_spikes.csv', with_histogram=False)"
   ]
  },
  {
   "cell_type": "markdown",
   "id": "fdf47f53-740f-44b3-b167-aec0c3117b4c",
   "metadata": {},
   "source": [
    "**Remember**: Biophysical models contain customized ion channels that require compiling using the `nrnivmod` command before running Bionet (see [Tutorial 1](https://github.com/AllenInstitute/bmtk/blob/develop/docs/tutorial/01_single_cell_clamped.ipynb) for more details). Ion channels are stored in the **components/mechanisms/mod/** folder. In a shell or using Jupyter notebook, you'll need to run the following:"
   ]
  },
  {
   "cell_type": "code",
   "execution_count": 5,
   "id": "4eac131f",
   "metadata": {},
   "outputs": [
    {
     "name": "stdout",
     "output_type": "stream",
     "text": [
      "/opt/conda/bin/nrnivmodl:10: DeprecationWarning: pkg_resources is deprecated as an API. See https://setuptools.pypa.io/en/latest/pkg_resources.html\n",
      "  from pkg_resources import working_set\n",
      "/home/shared/bmtk-workshop/docs/tutorial/03_opt_advanced_spiking_inputs/components/mechanisms\n",
      "Mod files: \"modfiles/modfiles/CaDynamics.mod\" \"modfiles/modfiles/Ca_HVA.mod\" \"modfiles/modfiles/Ca_LVA.mod\" \"modfiles/modfiles/Ih.mod\" \"modfiles/modfiles/Im.mod\" \"modfiles/modfiles/Im_v2.mod\" \"modfiles/modfiles/K_P.mod\" \"modfiles/modfiles/K_T.mod\" \"modfiles/modfiles/Kd.mod\" \"modfiles/modfiles/Kv2like.mod\" \"modfiles/modfiles/Kv3_1.mod\" \"modfiles/modfiles/NaTa.mod\" \"modfiles/modfiles/NaTs.mod\" \"modfiles/modfiles/NaV.mod\" \"modfiles/modfiles/Nap.mod\" \"modfiles/modfiles/SK.mod\" \"modfiles/modfiles/exp1isyn.mod\" \"modfiles/modfiles/exp1syn.mod\" \"modfiles/modfiles/stp1syn.mod\" \"modfiles/modfiles/stp2syn.mod\" \"modfiles/modfiles/stp3syn.mod\" \"modfiles/modfiles/stp4syn.mod\" \"modfiles/modfiles/stp5isyn.mod\" \"modfiles/modfiles/stp5syn.mod\" \"modfiles/modfiles/vecevent.mod\"\n",
      "\n",
      "Creating 'x86_64' directory for .o files.\n",
      "\n",
      " -> \u001b[32mCompiling\u001b[0m mod_func.cpp\n",
      " -> \u001b[32mNMODL\u001b[0m ../modfiles/CaDynamics.mod\n",
      " -> \u001b[32mNMODL\u001b[0m ../modfiles/Ca_HVA.mod\n",
      " -> \u001b[32mNMODL\u001b[0m ../modfiles/Ca_LVA.mod\n",
      "Translating Ca_HVA.mod into /home/shared/bmtk-workshop/docs/tutorial/03_opt_advanced_spiking_inputs/components/mechanisms/x86_64/Ca_HVA.c\n",
      "Translating Ca_LVA.mod into /home/shared/bmtk-workshop/docs/tutorial/03_opt_advanced_spiking_inputs/components/mechanisms/x86_64/Ca_LVA.c\n",
      "Translating CaDynamics.mod into /home/shared/bmtk-workshop/docs/tutorial/03_opt_advanced_spiking_inputs/components/mechanisms/x86_64/CaDynamics.c\n",
      "Thread Safe\n",
      "Thread Safe\n",
      "Thread Safe\n",
      " -> \u001b[32mNMODL\u001b[0m ../modfiles/Ih.mod\n",
      " -> \u001b[32mNMODL\u001b[0m ../modfiles/Im_v2.mod\n",
      " -> \u001b[32mNMODL\u001b[0m ../modfiles/Im.mod\n",
      "Translating Im_v2.mod into /home/shared/bmtk-workshop/docs/tutorial/03_opt_advanced_spiking_inputs/components/mechanisms/x86_64/Im_v2.c\n",
      "Translating Ih.mod into /home/shared/bmtk-workshop/docs/tutorial/03_opt_advanced_spiking_inputs/components/mechanisms/x86_64/Ih.c\n",
      "Translating Im.mod into /home/shared/bmtk-workshop/docs/tutorial/03_opt_advanced_spiking_inputs/components/mechanisms/x86_64/Im.c\n",
      "Thread Safe\n",
      " -> \u001b[32mNMODL\u001b[0m ../modfiles/K_P.mod\n",
      "Thread Safe\n",
      "Thread Safe\n",
      " -> \u001b[32mNMODL\u001b[0m ../modfiles/K_T.mod\n",
      " -> \u001b[32mNMODL\u001b[0m ../modfiles/Kd.mod\n",
      "Translating K_P.mod into /home/shared/bmtk-workshop/docs/tutorial/03_opt_advanced_spiking_inputs/components/mechanisms/x86_64/K_P.c\n",
      "Translating K_T.mod into /home/shared/bmtk-workshop/docs/tutorial/03_opt_advanced_spiking_inputs/components/mechanisms/x86_64/K_T.c\n",
      "Translating Kd.mod into /home/shared/bmtk-workshop/docs/tutorial/03_opt_advanced_spiking_inputs/components/mechanisms/x86_64/Kd.c\n",
      "Thread Safe\n",
      "Thread Safe\n",
      "Thread Safe\n",
      " -> \u001b[32mNMODL\u001b[0m ../modfiles/Kv2like.mod\n",
      " -> \u001b[32mNMODL\u001b[0m ../modfiles/Kv3_1.mod\n",
      " -> \u001b[32mNMODL\u001b[0m ../modfiles/NaTa.mod\n",
      "Translating Kv2like.mod into /home/shared/bmtk-workshop/docs/tutorial/03_opt_advanced_spiking_inputs/components/mechanisms/x86_64/Kv2like.c\n",
      "Translating Kv3_1.mod into /home/shared/bmtk-workshop/docs/tutorial/03_opt_advanced_spiking_inputs/components/mechanisms/x86_64/Kv3_1.c\n",
      "Translating NaTa.mod into /home/shared/bmtk-workshop/docs/tutorial/03_opt_advanced_spiking_inputs/components/mechanisms/x86_64/NaTa.c\n",
      "Thread Safe\n",
      "Thread Safe\n",
      "Thread Safe\n",
      " -> \u001b[32mNMODL\u001b[0m ../modfiles/NaTs.mod\n",
      " -> \u001b[32mNMODL\u001b[0m ../modfiles/NaV.mod\n",
      " -> \u001b[32mNMODL\u001b[0m ../modfiles/Nap.mod\n",
      "Translating NaTs.mod into /home/shared/bmtk-workshop/docs/tutorial/03_opt_advanced_spiking_inputs/components/mechanisms/x86_64/NaTs.c\n",
      "Translating NaV.mod into /home/shared/bmtk-workshop/docs/tutorial/03_opt_advanced_spiking_inputs/components/mechanisms/x86_64/NaV.c\n",
      "Translating Nap.mod into /home/shared/bmtk-workshop/docs/tutorial/03_opt_advanced_spiking_inputs/components/mechanisms/x86_64/Nap.c\n",
      "NEURON's CVode method ignores conservation\n",
      "Notice: LINEAR is not thread safe.\n",
      "Thread Safe\n",
      "Thread Safe\n",
      " -> \u001b[32mNMODL\u001b[0m ../modfiles/SK.mod\n",
      " -> \u001b[32mNMODL\u001b[0m ../modfiles/exp1syn.mod\n",
      " -> \u001b[32mNMODL\u001b[0m ../modfiles/exp1isyn.mod\n",
      "Translating SK.mod into /home/shared/bmtk-workshop/docs/tutorial/03_opt_advanced_spiking_inputs/components/mechanisms/x86_64/SK.c\n",
      "Translating exp1syn.mod into /home/shared/bmtk-workshop/docs/tutorial/03_opt_advanced_spiking_inputs/components/mechanisms/x86_64/exp1syn.c\n",
      "Translating exp1isyn.mod into /home/shared/bmtk-workshop/docs/tutorial/03_opt_advanced_spiking_inputs/components/mechanisms/x86_64/exp1isyn.c\n",
      "Thread Safe\n",
      "Thread Safe\n",
      "Thread Safe\n",
      " -> \u001b[32mNMODL\u001b[0m ../modfiles/stp1syn.mod\n",
      " -> \u001b[32mNMODL\u001b[0m ../modfiles/stp2syn.mod\n",
      " -> \u001b[32mNMODL\u001b[0m ../modfiles/stp3syn.mod\n",
      "Translating stp1syn.mod into /home/shared/bmtk-workshop/docs/tutorial/03_opt_advanced_spiking_inputs/components/mechanisms/x86_64/stp1syn.c\n",
      "Translating stp2syn.mod into /home/shared/bmtk-workshop/docs/tutorial/03_opt_advanced_spiking_inputs/components/mechanisms/x86_64/stp2syn.c\n",
      "Translating stp3syn.mod into /home/shared/bmtk-workshop/docs/tutorial/03_opt_advanced_spiking_inputs/components/mechanisms/x86_64/stp3syn.c\n",
      "Thread Safe\n",
      "Thread Safe\n",
      "Thread Safe\n",
      " -> \u001b[32mNMODL\u001b[0m ../modfiles/stp4syn.mod\n",
      " -> \u001b[32mNMODL\u001b[0m ../modfiles/stp5isyn.mod\n",
      " -> \u001b[32mNMODL\u001b[0m ../modfiles/stp5syn.mod\n",
      "Translating stp4syn.mod into /home/shared/bmtk-workshop/docs/tutorial/03_opt_advanced_spiking_inputs/components/mechanisms/x86_64/stp4syn.c\n",
      "Translating stp5isyn.mod into /home/shared/bmtk-workshop/docs/tutorial/03_opt_advanced_spiking_inputs/components/mechanisms/x86_64/stp5isyn.c\n",
      "Translating stp5syn.mod into /home/shared/bmtk-workshop/docs/tutorial/03_opt_advanced_spiking_inputs/components/mechanisms/x86_64/stp5syn.c\n",
      "Thread Safe\n",
      "Thread Safe\n",
      "Thread Safe\n",
      " -> \u001b[32mNMODL\u001b[0m ../modfiles/vecevent.mod\n",
      " -> \u001b[32mCompiling\u001b[0m CaDynamics.c\n",
      " -> \u001b[32mCompiling\u001b[0m Ca_HVA.c\n",
      "Translating vecevent.mod into /home/shared/bmtk-workshop/docs/tutorial/03_opt_advanced_spiking_inputs/components/mechanisms/x86_64/vecevent.c\n",
      "Notice: VERBATIM blocks are not thread safe\n",
      " -> \u001b[32mCompiling\u001b[0m Ca_LVA.c\n",
      " -> \u001b[32mCompiling\u001b[0m Ih.c\n",
      " -> \u001b[32mCompiling\u001b[0m Im.c\n",
      " -> \u001b[32mCompiling\u001b[0m Im_v2.c\n",
      " -> \u001b[32mCompiling\u001b[0m K_P.c\n",
      " -> \u001b[32mCompiling\u001b[0m K_T.c\n",
      " -> \u001b[32mCompiling\u001b[0m Kd.c\n",
      " -> \u001b[32mCompiling\u001b[0m Kv2like.c\n",
      " -> \u001b[32mCompiling\u001b[0m Kv3_1.c\n",
      " -> \u001b[32mCompiling\u001b[0m NaTa.c\n",
      " -> \u001b[32mCompiling\u001b[0m NaTs.c\n",
      " -> \u001b[32mCompiling\u001b[0m NaV.c\n",
      " -> \u001b[32mCompiling\u001b[0m Nap.c\n",
      " -> \u001b[32mCompiling\u001b[0m SK.c\n",
      " -> \u001b[32mCompiling\u001b[0m exp1isyn.c\n",
      " -> \u001b[32mCompiling\u001b[0m exp1syn.c\n",
      " -> \u001b[32mCompiling\u001b[0m stp1syn.c\n",
      " -> \u001b[32mCompiling\u001b[0m stp2syn.c\n",
      " -> \u001b[32mCompiling\u001b[0m stp3syn.c\n",
      " -> \u001b[32mCompiling\u001b[0m stp4syn.c\n",
      " -> \u001b[32mCompiling\u001b[0m stp5isyn.c\n",
      " -> \u001b[32mCompiling\u001b[0m stp5syn.c\n",
      " -> \u001b[32mCompiling\u001b[0m vecevent.c\n",
      " => \u001b[32mLINKING\u001b[0m shared library ./libnrnmech.so\n",
      " => \u001b[32mLINKING\u001b[0m executable ./special LDFLAGS are:    -pthread\n",
      "Successfully created x86_64/special\n"
     ]
    }
   ],
   "source": [
    "! cd components/mechanisms && nrnivmodl modfiles"
   ]
  },
  {
   "cell_type": "markdown",
   "id": "33d7ba6b",
   "metadata": {},
   "source": [
    "We can now run the simulation with our custom CSV input file."
   ]
  },
  {
   "cell_type": "code",
   "execution_count": 6,
   "id": "4836b12f-9f91-40d2-9031-5e1a927245ef",
   "metadata": {},
   "outputs": [
    {
     "name": "stdout",
     "output_type": "stream",
     "text": [
      "2024-10-24 00:02:57,330 [INFO] Created log file\n",
      "2024-10-24 00:02:57,418 [INFO] Building cells.\n"
     ]
    },
    {
     "name": "stderr",
     "output_type": "stream",
     "text": [
      "Warning: no DISPLAY environment variable.\n",
      "--No graphics will be displayed.\n"
     ]
    },
    {
     "name": "stdout",
     "output_type": "stream",
     "text": [
      "2024-10-24 00:02:58,097 [INFO] Building recurrent connections\n",
      "2024-10-24 00:02:58,102 [INFO] Building virtual cell stimulations for LGN_spikes_sonata\n",
      "2024-10-24 00:02:58,137 [INFO] Running simulation for 2000.000 ms with the time step 0.100 ms\n",
      "2024-10-24 00:02:58,138 [INFO] Starting timestep: 0 at t_sim: 0.000 ms\n",
      "2024-10-24 00:02:58,138 [INFO] Block save every 5000 steps\n",
      "2024-10-24 00:02:58,492 [INFO]     step:5000 t_sim:500.00 ms\n",
      "2024-10-24 00:02:58,839 [INFO]     step:10000 t_sim:1000.00 ms\n",
      "2024-10-24 00:02:59,176 [INFO]     step:15000 t_sim:1500.00 ms\n",
      "2024-10-24 00:02:59,514 [INFO]     step:20000 t_sim:2000.00 ms\n",
      "2024-10-24 00:02:59,549 [INFO] Simulation completed in 1.412 seconds \n"
     ]
    },
    {
     "data": {
      "image/png": "[encoded data removed]",
      "text/plain": [
       "<Figure size 640x480 with 2 Axes>"
      ]
     },
     "metadata": {},
     "output_type": "display_data"
    }
   ],
   "source": [
    "from bmtk.simulator import bionet\n",
    "from bmtk.analyzer.spike_trains import plot_raster, to_dataframe\n",
    "\n",
    "bionet.reset()\n",
    "conf = bionet.Config.from_json('config.csv_spikes.json')\n",
    "conf.build_env()\n",
    "\n",
    "net = bionet.BioNetwork.from_config(conf)\n",
    "sim = bionet.BioSimulator.from_config(conf, network=net)\n",
    "sim.run()\n",
    "\n",
    "_ = plot_raster(config_file='config.csv_spikes.json')"
   ]
  },
  {
   "cell_type": "markdown",
   "id": "76baf2be-28b2-4944-981b-d7e12fad5578",
   "metadata": {},
   "source": [
    "## 2. Example: Dynamically generating custom spike-trains <a class=\"anchor\" id=\"example-spikes-from-func\">"
   ]
  },
  {
   "cell_type": "markdown",
   "id": "6e1860a4-4702-4e6c-b839-5d4372acd95b",
   "metadata": {},
   "source": [
    "Pregenerating spike trains for your simulations inside an hdf5 or CSV file is computationally efficient and makes your results more accessible to reproduce and share. However, at times, it may be beneficial for users to generate spike trains dynamically during each simulation. If you are doing quick simulations and spot-checks, it can be cumbersome having to regenerate a file beforehand. Or if a user is running thousands of simulations or doing some kind of gradient search, the cost of potentially creating thousands of spike files beforehand may not be reasonable.\n",
    "\n",
    "BMTK also allows modelers to create their own special function, which will generate new spike trains at the start of each simulation. To do so, you only need to make changes to the configuration for a \"spikes\" input so that the **module** is set to value `function`, and instead of spikes_input, you specify a **spikes_function** parameter that will be the name of your custom function.\n",
    "\n",
    "```json\n",
    "\"inputs\": {\n",
    "    \"LGN_spikes_sonata\": {\n",
    "        \"input_type\": \"spikes\",\n",
    "        \"module\": \"function\",\n",
    "        \"spikes_function\": \"my_spikes_generator\",\n",
    "        \"node_set\": \"LGN\"\n",
    "    }\n",
    "}\n",
    "```"
   ]
  },
  {
   "cell_type": "markdown",
   "id": "2a677788-8993-4612-b595-51c4bff5ba30",
   "metadata": {},
   "source": [
    "For BMTK to know where to find the `my_spikes_generator`, you must then use the `@spikes_generator` at the top of a given function in your run_bmtk.py script (or any python file imported into the run script). In the below example, we use the following to return spike trains for every cell in the `LGN` node_set to fire at a constant rate (although different rates for different models)."
   ]
  },
  {
   "cell_type": "code",
   "execution_count": 7,
   "id": "8014e00c-b6b8-42c9-a37b-13df612ff431",
   "metadata": {},
   "outputs": [],
   "source": [
    "from bmtk.simulator.bionet.io_tools import io\n",
    "from bmtk.simulator.bionet import spikes_generator\n",
    "import numpy as np\n",
    "\n",
    "@spikes_generator\n",
    "def my_spikes_generator(node, sim):\n",
    "    io.log_info(f'Generating custom spike trains for {node.node_id} from {node.population_name}')\n",
    "    if node['pop_name'] == 'tON':\n",
    "        return np.arange(100.0, sim.tstop, step=sim.dt*10)\n",
    "    elif node['pop_name'] == 'tOFF':\n",
    "        return np.arange(100.0, sim.tstop, step=sim.dt*20)\n",
    "    else:\n",
    "        return []\n"
   ]
  },
  {
   "cell_type": "markdown",
   "id": "07f07bf1-fc89-46cb-b23f-35fe33c0a041",
   "metadata": {},
   "source": [
    "* All `spikes_generator` functions must have parameters `node` and `sim`.\n",
    "  * `node` allows you to access information about each node/cell like a dictionary.\n",
    "  * `sim` is a class containing information about a current simulation, including information like start time (`sim.tstart`), stop_time (`sim.tstop`), step size (`sim.dt`), among other properties.\n",
    "* The `spikes_generator` should return either a list or array of timestamps, in milliseconds, for each node.\n",
    "* We include a logging statement for good measure. This is not required, but it is good for debugging and checking that our custom function is being called.\n",
    "\n",
    "When the simulation is running, the `my_spikes_generator` function will be called once for each node in the specified **node_set**. "
   ]
  },
  {
   "cell_type": "code",
   "execution_count": 8,
   "id": "36732033-c4f4-4c36-994c-b2ec5ef44c86",
   "metadata": {},
   "outputs": [
    {
     "name": "stdout",
     "output_type": "stream",
     "text": [
      "2024-10-24 00:02:59,673 [INFO] Created log file\n",
      "Mechanisms already loaded from path: ./components/mechanisms.  Aborting.\n",
      "2024-10-24 00:02:59,707 [INFO] Building cells.\n",
      "2024-10-24 00:03:06,517 [INFO] Building recurrent connections\n",
      "2024-10-24 00:03:06,532 [INFO] Building virtual cell stimulations for LGN_spikes_sonata\n",
      "2024-10-24 00:03:06,545 [INFO] Generating custom spike trains for 0 from LGN\n",
      "2024-10-24 00:03:06,549 [INFO] Generating custom spike trains for 28 from LGN\n",
      "2024-10-24 00:03:06,550 [INFO] Generating custom spike trains for 27 from LGN\n",
      "2024-10-24 00:03:06,551 [INFO] Generating custom spike trains for 14 from LGN\n",
      "2024-10-24 00:03:06,552 [INFO] Generating custom spike trains for 2 from LGN\n",
      "2024-10-24 00:03:06,553 [INFO] Generating custom spike trains for 38 from LGN\n",
      "2024-10-24 00:03:06,554 [INFO] Generating custom spike trains for 26 from LGN\n",
      "2024-10-24 00:03:06,555 [INFO] Generating custom spike trains for 15 from LGN\n",
      "2024-10-24 00:03:06,556 [INFO] Generating custom spike trains for 25 from LGN\n",
      "2024-10-24 00:03:06,557 [INFO] Generating custom spike trains for 16 from LGN\n",
      "2024-10-24 00:03:06,558 [INFO] Generating custom spike trains for 24 from LGN\n",
      "2024-10-24 00:03:06,568 [INFO] Generating custom spike trains for 17 from LGN\n",
      "2024-10-24 00:03:06,572 [INFO] Generating custom spike trains for 1 from LGN\n",
      "2024-10-24 00:03:06,573 [INFO] Generating custom spike trains for 39 from LGN\n",
      "2024-10-24 00:03:06,577 [INFO] Generating custom spike trains for 23 from LGN\n",
      "2024-10-24 00:03:06,578 [INFO] Generating custom spike trains for 18 from LGN\n",
      "2024-10-24 00:03:06,580 [INFO] Generating custom spike trains for 12 from LGN\n",
      "2024-10-24 00:03:06,581 [INFO] Generating custom spike trains for 22 from LGN\n",
      "2024-10-24 00:03:06,582 [INFO] Generating custom spike trains for 29 from LGN\n",
      "2024-10-24 00:03:06,583 [INFO] Generating custom spike trains for 11 from LGN\n",
      "2024-10-24 00:03:06,584 [INFO] Generating custom spike trains for 5 from LGN\n",
      "2024-10-24 00:03:06,585 [INFO] Generating custom spike trains for 35 from LGN\n",
      "2024-10-24 00:03:06,586 [INFO] Generating custom spike trains for 6 from LGN\n",
      "2024-10-24 00:03:06,587 [INFO] Generating custom spike trains for 36 from LGN\n",
      "2024-10-24 00:03:06,588 [INFO] Generating custom spike trains for 34 from LGN\n",
      "2024-10-24 00:03:06,589 [INFO] Generating custom spike trains for 7 from LGN\n",
      "2024-10-24 00:03:06,590 [INFO] Generating custom spike trains for 4 from LGN\n",
      "2024-10-24 00:03:06,591 [INFO] Generating custom spike trains for 33 from LGN\n",
      "2024-10-24 00:03:06,592 [INFO] Generating custom spike trains for 8 from LGN\n",
      "2024-10-24 00:03:06,593 [INFO] Generating custom spike trains for 32 from LGN\n",
      "2024-10-24 00:03:06,594 [INFO] Generating custom spike trains for 9 from LGN\n",
      "2024-10-24 00:03:06,595 [INFO] Generating custom spike trains for 37 from LGN\n",
      "2024-10-24 00:03:06,596 [INFO] Generating custom spike trains for 31 from LGN\n",
      "2024-10-24 00:03:06,597 [INFO] Generating custom spike trains for 10 from LGN\n",
      "2024-10-24 00:03:06,598 [INFO] Generating custom spike trains for 30 from LGN\n",
      "2024-10-24 00:03:06,599 [INFO] Generating custom spike trains for 3 from LGN\n",
      "2024-10-24 00:03:06,599 [INFO] Generating custom spike trains for 19 from LGN\n",
      "2024-10-24 00:03:06,601 [INFO] Generating custom spike trains for 13 from LGN\n",
      "2024-10-24 00:03:06,602 [INFO] Generating custom spike trains for 21 from LGN\n",
      "2024-10-24 00:03:06,602 [INFO] Generating custom spike trains for 20 from LGN\n",
      "2024-10-24 00:03:07,466 [INFO] Running simulation for 2000.000 ms with the time step 0.100 ms\n",
      "2024-10-24 00:03:07,466 [INFO] Starting timestep: 0 at t_sim: 0.000 ms\n",
      "2024-10-24 00:03:07,467 [INFO] Block save every 5000 steps\n",
      "2024-10-24 00:03:17,745 [INFO]     step:5000 t_sim:500.00 ms\n",
      "2024-10-24 00:03:28,232 [INFO]     step:10000 t_sim:1000.00 ms\n",
      "2024-10-24 00:03:38,876 [INFO]     step:15000 t_sim:1500.00 ms\n",
      "2024-10-24 00:03:49,440 [INFO]     step:20000 t_sim:2000.00 ms\n",
      "2024-10-24 00:03:49,465 [INFO] Simulation completed in 42.0 seconds \n"
     ]
    }
   ],
   "source": [
    "from bmtk.simulator import bionet\n",
    "\n",
    "bionet.reset()\n",
    "conf = bionet.Config.from_json('config.spikes_generator.json')\n",
    "conf.build_env()\n",
    "\n",
    "net = bionet.BioNetwork.from_config(conf)\n",
    "sim = bionet.BioSimulator.from_config(conf, network=net)\n",
    "sim.run()"
   ]
  },
  {
   "cell_type": "markdown",
   "id": "ce4e0aca-0600-4b82-87f0-151f168e2de9",
   "metadata": {},
   "source": [
    "## 3. Example: Incorporating real data with NWB <a class=\"anchor\" id=\"example-spikes-from-nwb\">"
   ]
  },
  {
   "cell_type": "markdown",
   "id": "7a0a55bc-a592-4778-9f6d-0862da876721",
   "metadata": {},
   "source": [
    "You can use tools like FilterNet or PoissonSpikeGenerator to create theoretical-to-realistic synaptic stimuli onto a network from various modes. But better yet, when actual experimental data is available, it is often possible to just use that. Especially as more and more experimental electrophysiological data sets are being made publically available through resources like [DANDI](https://dandiarchive.org/) or [The Allen Brain Observatory](https://portal.brain-map.org/circuits-behavior/visual-coding-neuropixels), we will want not only to use such data as a base-line for validating and comparing our models but to actually use the data within specific simulations. For example, when modeling a network of one population and/or region, we will want to use recordings of surrounding cells to help excite and inhibit our cells more realistically.\n",
    "\n",
    "Traditionally a major issue with using encorporating experimental ephys data into simulations is trying to parse the wide variety of different ways the data was stored. Luckily, the [Neurodata Without Borders (NWB)](https://www.nwb.org/) has developed a field-adopted format for storing experimental data. BMTK can take these files and automatically insert them into simulations.\n",
    "\n",
    "In this example, we will take the previous model of the Mouse Primary Visual Cortex and add inputs that we know come from higher cortical regions (in this case, just the VisL and Hippocampal regions) along with the input from the LGN. For these added regions, we will use actual neuropixel recordings of activity from the region during drifting gratings."
   ]
  },
  {
   "cell_type": "markdown",
   "id": "fd7df1db-fa11-45e9-ba96-f803a2e7d210",
   "metadata": {},
   "source": [
    "### Step 1: Download the data"
   ]
  },
  {
   "cell_type": "markdown",
   "id": "d183688f-c1fd-477d-ad34-cb91106b0b9b",
   "metadata": {},
   "source": [
    "The first step is to find experimental NWB that includes spiking events. For our example, we will use data from Allen Institute Visual Coding Data downloaded using the AllenSDK. We will get three experimental sessions that we know contain recordings of the VisL and hippocampus."
   ]
  },
  {
   "cell_type": "code",
   "execution_count": 1,
   "id": "7f79d70f-b028-4e17-8991-26f54ae130db",
   "metadata": {},
   "outputs": [
    {
     "name": "stderr",
     "output_type": "stream",
     "text": [
      "WARNING:root:downloading a 2723.916MiB file from http://api.brain-map.org//api/v2/well_known_file_download/1026124469\n"
     ]
    },
    {
     "data": {
      "application/vnd.jupyter.widget-view+json": {
       "model_id": "d5560d86f71246e2902164419c8fd3ff",
       "version_major": 2,
       "version_minor": 0
      },
      "text/plain": [
       "Downloading:   0%|          | 0.00/2.86G [00:00<?, ?B/s]"
      ]
     },
     "metadata": {},
     "output_type": "display_data"
    },
    {
     "name": "stderr",
     "output_type": "stream",
     "text": [
      "/opt/anaconda3/envs/biorealistic-v1/lib/python3.11/site-packages/hdmf/utils.py:668: UserWarning: Ignoring cached namespace 'hdmf-common' version 1.1.3 because version 1.8.0 is already loaded.\n",
      "  return func(args[0], **pargs)\n",
      "/opt/anaconda3/envs/biorealistic-v1/lib/python3.11/site-packages/hdmf/utils.py:668: UserWarning: Ignoring cached namespace 'core' version 2.2.2 because version 2.7.0 is already loaded.\n",
      "  return func(args[0], **pargs)\n",
      "WARNING:root:downloading a 2731.587MiB file from http://api.brain-map.org//api/v2/well_known_file_download/1026124743\n"
     ]
    },
    {
     "data": {
      "application/vnd.jupyter.widget-view+json": {
       "model_id": "973df91bdbe5477a8a0f871fe56ef148",
       "version_major": 2,
       "version_minor": 0
      },
      "text/plain": [
       "Downloading:   0%|          | 0.00/2.86G [00:00<?, ?B/s]"
      ]
     },
     "metadata": {},
     "output_type": "display_data"
    },
    {
     "name": "stderr",
     "output_type": "stream",
     "text": [
      "/opt/anaconda3/envs/biorealistic-v1/lib/python3.11/site-packages/hdmf/utils.py:668: UserWarning: Ignoring cached namespace 'hdmf-common' version 1.1.3 because version 1.8.0 is already loaded.\n",
      "  return func(args[0], **pargs)\n",
      "/opt/anaconda3/envs/biorealistic-v1/lib/python3.11/site-packages/hdmf/utils.py:668: UserWarning: Ignoring cached namespace 'core' version 2.2.2 because version 2.7.0 is already loaded.\n",
      "  return func(args[0], **pargs)\n",
      "WARNING:root:downloading a 2571.776MiB file from http://api.brain-map.org//api/v2/well_known_file_download/1026124326\n"
     ]
    },
    {
     "data": {
      "application/vnd.jupyter.widget-view+json": {
       "model_id": "d069576e2ebe4a7185cc8908033996a6",
       "version_major": 2,
       "version_minor": 0
      },
      "text/plain": [
       "Downloading:   0%|          | 0.00/2.70G [00:00<?, ?B/s]"
      ]
     },
     "metadata": {},
     "output_type": "display_data"
    },
    {
     "name": "stderr",
     "output_type": "stream",
     "text": [
      "/opt/anaconda3/envs/biorealistic-v1/lib/python3.11/site-packages/hdmf/utils.py:668: UserWarning: Ignoring cached namespace 'hdmf-common' version 1.1.3 because version 1.8.0 is already loaded.\n",
      "  return func(args[0], **pargs)\n",
      "/opt/anaconda3/envs/biorealistic-v1/lib/python3.11/site-packages/hdmf/utils.py:668: UserWarning: Ignoring cached namespace 'core' version 2.2.2 because version 2.7.0 is already loaded.\n",
      "  return func(args[0], **pargs)\n"
     ]
    },
    {
     "data": {
      "text/plain": [
       "<allensdk.brain_observatory.ecephys.ecephys_session.EcephysSession at 0x14959ae90>"
      ]
     },
     "execution_count": 1,
     "metadata": {},
     "output_type": "execute_result"
    }
   ],
   "source": [
    "from allensdk.brain_observatory.ecephys.ecephys_project_cache import EcephysProjectCache\n",
    "\n",
    "cache = EcephysProjectCache.from_warehouse(\n",
    "    manifest='./ecephys_cache_dir/neuropixels.manifest.json'\n",
    ")\n",
    "cache.get_session_data(715093703)\n",
    "cache.get_session_data(798911424)\n",
    "cache.get_session_data(754829445)"
   ]
  },
  {
   "cell_type": "markdown",
   "id": "7dc957f1-abf5-4f0e-8304-89f207db88e4",
   "metadata": {},
   "source": [
    "By default, the NWB files will be downloaded into the *ecephys_cache_dir*. Since nwb files are essentially just structured HDF5 files, you can use tools like [HDFView](https://www.hdfgroup.org/downloads/hdfview/) or [h5py](https://www.h5py.org/) to read them once they have been downloaded. "
   ]
  },
  {
   "cell_type": "markdown",
   "id": "f99daefa-2859-491c-8226-2edc181e8afd",
   "metadata": {},
   "source": [
    "### Step 2: Connecting VISL and Hippocampal onto our V1 cells."
   ]
  },
  {
   "cell_type": "markdown",
   "id": "1ba9ede7-b667-4038-ba9a-3f46076e8a1e",
   "metadata": {},
   "source": [
    "To simulate synaptic stimulation from the VisL and Hippocampal cell recordings onto our V1 model, we will need to create a population of virtual cells representing the new cells and synapses. Unfortunately, the electrophysiology data doesn't include information about network geometry, so it is up to the modeler to decide how to connect the experimental data to our network.\n",
    "\n",
    "As we did before, we will separate node populations called 'VISl' and 'Hippocampus' and use the NetworkBuilder to create feedforward synaptic connections.\n",
    "\n",
    "```python\n",
    "visl = NetworkBuilder('VISl')\n",
    "visl.add_nodes(\n",
    "    N=n_visl_units,\n",
    "    model_type='virtual',\n",
    "    ...\n",
    ")\n",
    "visl.add_edges(\n",
    "    source=visal.nodes(),\n",
    "    target=visp.nodes(ei='e'), \n",
    "    connection_rule=connection_rule_e2e,\n",
    "    dynamics_params='AMPA_ExcToExc.json',\n",
    "    model_template='Exp2Syn',\n",
    "    ...\n",
    ")\n",
    "\n",
    "```\n",
    "\n",
    "See the *./build_network.nwb_inputs.py* for the full script that builds the SONATA network found in *./network_nwb_inputs/*"
   ]
  },
  {
   "cell_type": "markdown",
   "id": "d0d7297f-d370-44c4-aa80-eb111367c040",
   "metadata": {},
   "source": [
    "### Step 3: Updating the configuration file to include NWB data."
   ]
  },
  {
   "cell_type": "markdown",
   "id": "3598b866-32db-4f70-974d-fe7d59abe2e7",
   "metadata": {},
   "source": [
    "Before we can run the simulation, we must update the SONATA configuration file so that the simulation:\n",
    "1. Knows which .nwb files to fetch spiking data from.\n",
    "2. Knows how to map cells (e.g., NWB units) from our experimental data to cells (e.g., SONATA nodes) in our 'VISl' and 'hippocampus' populations.\n",
    "3. Know which interval of the experimental data to use in our simulation.\n",
    "\n",
    "The most straightforward way of doing this is to add the following to our configuration file (*config.nwb_inputs.json*) in the \"inputs\" section:\n",
    "\n",
    "```json\n",
    "\"inputs\": {\n",
    "    \"hippo_spikes\": {\n",
    "        \"input_type\": \"spikes\",\n",
    "        \"module\": \"ecephys_probe\",\n",
    "        \"node_set\": \"hippocampus\",\n",
    "        \"input_file\": \"./ecephys_cache_dir/session_715093703/session_715093703.nwb\",\n",
    "        \"units\": {\n",
    "            \"location\": [\"CA1\", \"CA3\", \"Po\"]\n",
    "        }\n",
    "        \"mapping\": \"sample\",\n",
    "        \"interval\": {\n",
    "            \"interval_name\": \"drifting_gratings\",\n",
    "            \"temporal_frequency\": 4.0,\n",
    "            \"orientation\": 90\n",
    "        }\n",
    "\n",
    "    },\n",
    "    \"visl_spikes\": {\n",
    "        \"input_type\": \"spikes\",\n",
    "        \"module\": \"ecephys_probe\",\n",
    "        \"node_set\": \"VISl\",\n",
    "        \"input_file\": \"./ecephys_cache_dir/session_715093703/session_715093703.nwb\",\n",
    "        \"mapping\": \"sample\",\n",
    "        \"units\": {\n",
    "            \"location\": \"VISl\",\n",
    "        }\n",
    "        \"interval\": {\n",
    "            \"interval_name\": \"drifting_gratings\",\n",
    "            \"temporal_frequency\": 4.0,\n",
    "            \"orientation\": 90\n",
    "        },\n",
    "    }\n",
    "}\n",
    "```\n",
    "* When importing extracellular electrophysiology NWB files into your simulation, the **input_type** and **module** will always be set to `spikes` and `ecephys_probe`, respectively.\n",
    "* The **node_set** is the subset of cells in our network used as virtual cells that generate spikes.\n",
    "* The **input_file** in the name of the nwb file(s) to use for spikes. To use data from multiple sessions, just use a list of files:\n",
    "```json\n",
    "    \"input_file\": [\n",
    "        \"./ecephys_cache_dir/session_715093703/session_715093703.nwb\",\n",
    "        \"./ecephys_cache_dir/session_798911424/session_798911424.nwb\",\n",
    "        \"./ecephys_cache_dir/session_754829445/session_754829445.nwb\"\n",
    "    ]\n",
    "```\n",
    "* The **units** field tells us which units from the nwb file to take their spiking data from based on specific keywords and/or unit-id. In the Neuropixels NWB files, each unit has a field called \"location\" to determine which region the data came from, which we can use here to tell that our model's \"hippocampus\" cells use any data coming from either the CA1, CA3 or Po regions.\n",
    "* **mapping** tells how to map NWB **units** -> SONATA **node_set**. Setting the value to `sample` to do a random mapping without replacement. You can also use option `sample_with_replacment`, which is useful if your model has more nodes than units in your data. Or if you have a specific mapping from NWB unit_ids to SONATA node_ids, you can use option `units_map` (in which case **units** will point to a CSV file).\n",
    "* **interval** tells the simulation which time interval to fetch spikes from. Inside the NWB file, there is a stimulus table that marks the stimuli at any given epoch. We use this table to get only spikes recorded in which a \"drifting grating\" stimulus was present with a given orientation and frequency. You can also use the following option if you know the specific time.\n",
    "```json\n",
    "    \"interval\": [start_time_ms, end_time_ms]\n",
    "```"
   ]
  },
  {
   "cell_type": "markdown",
   "id": "ef2aadb1-2d31-4d26-8574-591229cd570c",
   "metadata": {},
   "source": [
    "And finally, we are ready to run our simulation."
   ]
  },
  {
   "cell_type": "code",
   "execution_count": 1,
   "id": "f77bfceb-64f0-4cd1-91a8-83aac4acfc83",
   "metadata": {},
   "outputs": [
    {
     "name": "stderr",
     "output_type": "stream",
     "text": [
      "Warning: no DISPLAY environment variable.\n",
      "--No graphics will be displayed.\n"
     ]
    },
    {
     "name": "stdout",
     "output_type": "stream",
     "text": [
      "2024-10-24 01:15:34,915 [INFO] Created log file\n",
      "2024-10-24 01:15:35,070 [INFO] Building cells.\n",
      "2024-10-24 01:15:41,349 [INFO] Building recurrent connections\n",
      "2024-10-24 01:15:41,362 [INFO] Building virtual cell stimulations for LGN_spikes_sonata\n"
     ]
    },
    {
     "name": "stderr",
     "output_type": "stream",
     "text": [
      "/opt/conda/lib/python3.12/site-packages/hdmf/spec/namespace.py:535: UserWarning: Ignoring cached namespace 'hdmf-common' version 1.1.3 because version 1.8.0 is already loaded.\n",
      "  warn(\"Ignoring cached namespace '%s' version %s because version %s is already loaded.\"\n",
      "/opt/conda/lib/python3.12/site-packages/hdmf/spec/namespace.py:535: UserWarning: Ignoring cached namespace 'core' version 2.2.2 because version 2.7.0 is already loaded.\n",
      "  warn(\"Ignoring cached namespace '%s' version %s because version %s is already loaded.\"\n",
      "/opt/conda/lib/python3.12/site-packages/hdmf/spec/namespace.py:535: UserWarning: Ignoring cached namespace 'hdmf-common' version 1.1.3 because version 1.8.0 is already loaded.\n",
      "  warn(\"Ignoring cached namespace '%s' version %s because version %s is already loaded.\"\n",
      "/opt/conda/lib/python3.12/site-packages/hdmf/spec/namespace.py:535: UserWarning: Ignoring cached namespace 'core' version 2.2.2 because version 2.7.0 is already loaded.\n",
      "  warn(\"Ignoring cached namespace '%s' version %s because version %s is already loaded.\"\n"
     ]
    },
    {
     "name": "stdout",
     "output_type": "stream",
     "text": [
      "2024-10-24 01:15:45,144 [INFO] Building virtual cell stimulations for VISl_spikes_nwb\n",
      "2024-10-24 01:15:48,042 [INFO] Building virtual cell stimulations for Hipp_spikes_nwb\n",
      "2024-10-24 01:15:49,677 [INFO] Running simulation for 2000.000 ms with the time step 0.100 ms\n",
      "2024-10-24 01:15:49,678 [INFO] Starting timestep: 0 at t_sim: 0.000 ms\n",
      "2024-10-24 01:15:49,679 [INFO] Block save every 5000 steps\n",
      "2024-10-24 01:16:09,188 [INFO]     step:5000 t_sim:500.00 ms\n",
      "2024-10-24 01:16:28,971 [INFO]     step:10000 t_sim:1000.00 ms\n",
      "2024-10-24 01:16:48,778 [INFO]     step:15000 t_sim:1500.00 ms\n",
      "2024-10-24 01:17:08,752 [INFO]     step:20000 t_sim:2000.00 ms\n",
      "2024-10-24 01:17:08,814 [INFO] Simulation completed in 79.14 seconds \n"
     ]
    }
   ],
   "source": [
    "from bmtk.simulator import bionet\n",
    "\n",
    "bionet.reset()\n",
    "conf = bionet.Config.from_json('config.nwb_inputs.json')\n",
    "conf.build_env()\n",
    "\n",
    "net = bionet.BioNetwork.from_config(conf)\n",
    "sim = bionet.BioSimulator.from_config(conf, network=net)\n",
    "sim.run()"
   ]
  },
  {
   "cell_type": "markdown",
   "id": "448dfd35-f226-471c-98e5-929d5bc71571",
   "metadata": {},
   "source": [
    "## 4. Example: Forcing spontaneous synaptic activity within a network <a class=\"anchor\" id=\"example-spikes-from-spont\">"
   ]
  },
  {
   "cell_type": "markdown",
   "id": "5b18e4ca-aba8-4f41-ab52-8e19bfebf6c4",
   "metadata": {},
   "source": [
    "So far, in this tutorial, we've focused on generating stimuli using synaptic inputs from outside our main modeled network. In other tutorials, we have used different types of input to drive a simulation, including current-clamps, voltage-clamps, and extracellular stimulation. While these can generate the kinds of stimuli we might see in experiments and living brains, they tend not to be very granular, especially when we want to study the secondary effects of activity within a network.\n",
    "\n",
    "One option that BMTK offers for having more granular control of internal network activity is forcing certain synapses to spontaneously fire at pre-determined times. This cannot only give us more control of network dynamics, which would be much harder to achieve using current clamps or feedforward spike trains, but it also lets us isolate external activity from recurrent activity."
   ]
  },
  {
   "cell_type": "markdown",
   "id": "463087a0-380e-459a-9abb-d70d659e94b2",
   "metadata": {},
   "source": [
    "In BMTK, this is done by adding a new input type to the \"inputs\" section of the SONATA config with **input_type** and **module** called `syn_activity`. At the minimum, we must define the pre-synaptic cells that will spontaneously fire and a list of firing times:\n",
    "\n",
    "```json\n",
    "\"syn_activity\": {\n",
    "  \"input_type\": \"syn_activity\",\n",
    "  \"module\": \"syn_activity\",\n",
    "  \"precell_filter\": {\n",
    "      \"population\": \"VISp\",\n",
    "      \"ei\": \"e\"\n",
    "  },\n",
    "  \"timestamps\": [500.0, 1000.0, 1500.0, 2000.0, 2500.0, 3000.0, 3500.0]\n",
    "}\n",
    "```\n",
    "* **precell_filter** determines the synapses to activate based on the presynaptic/source cell spontaneously. In this case we tell BMTK sponataneous activity to apply on to synapses with a source-cell that has attributes `population==VISp` and `ei==e`. If you know exactly which cells you want to use, you can filter by `node_id`:\n",
    "```json\n",
    "    \"node_id\": [0, 1, 2, 3],\n",
    "```\n",
    "* **timestamps** is a list of timestamps, in milliseconds, to activate the neuron following startup. If you have too many timestamps to add to the JSON directly, you can also pass in a string path to a txt file where each line is a timestamp.\n",
    "\n",
    "\n",
    "In the above example, all the synapses with VISp excitatory pre-synaptic connections will fire at the given timestamp. For further granular control, you can all set the **postcell_filter** too for filtering out synapses based on post-synaptic cells. For example, if you want spontaneous firing in exc -> inh connections (the above example would also include exc -> exc synapses:\n",
    "\n",
    "```json\n",
    "\"syn_activity\": {\n",
    "  \"input_type\": \"syn_activity\",\n",
    "  \"module\": \"syn_activity\",\n",
    "  \"precell_filter\": {\n",
    "      \"population\": \"VISp\",\n",
    "      \"ei\": \"e\"\n",
    "  },\n",
    "  \"postcell_filter\": {\n",
    "      \"population\": \"VISp\",\n",
    "      \"ei\": \"i\"\n",
    "  },\n",
    "  \"timestamps\": [500.0, 1000.0, 1500.0, 2000.0, 2500.0, 3000.0, 3500.0]\n",
    "}\n",
    "```\n",
    "\n"
   ]
  },
  {
   "cell_type": "code",
   "execution_count": 11,
   "id": "957112fc-f8ae-4841-95dd-0a0bd81be884",
   "metadata": {},
   "outputs": [
    {
     "name": "stdout",
     "output_type": "stream",
     "text": [
      "2024-10-24 00:05:52,474 [INFO] Created log file\n",
      "Mechanisms already loaded from path: ./components/mechanisms.  Aborting.\n",
      "2024-10-24 00:05:52,522 [INFO] Building cells.\n",
      "2024-10-24 00:06:09,970 [INFO] Building recurrent connections\n",
      "2024-10-24 00:06:11,573 [INFO] Running simulation for 2000.000 ms with the time step 0.100 ms\n",
      "2024-10-24 00:06:11,574 [INFO] Starting timestep: 0 at t_sim: 0.000 ms\n",
      "2024-10-24 00:06:11,574 [INFO] Block save every 5000 steps\n",
      "2024-10-24 00:06:49,734 [INFO]     step:5000 t_sim:500.00 ms\n",
      "2024-10-24 00:07:28,517 [INFO]     step:10000 t_sim:1000.00 ms\n",
      "2024-10-24 00:08:07,476 [INFO]     step:15000 t_sim:1500.00 ms\n",
      "2024-10-24 00:08:46,555 [INFO]     step:20000 t_sim:2000.00 ms\n",
      "2024-10-24 00:08:46,576 [INFO] Simulation completed in 2.0 minutes, 35.0 seconds \n"
     ]
    }
   ],
   "source": [
    "from bmtk.simulator import bionet\n",
    "\n",
    "bionet.reset()\n",
    "conf = bionet.Config.from_json('config.spont_syns.json')\n",
    "conf.build_env()\n",
    "\n",
    "net = bionet.BioNetwork.from_config(conf)\n",
    "sim = bionet.BioSimulator.from_config(conf, network=net)\n",
    "sim.run()"
   ]
  },
  {
   "cell_type": "code",
   "execution_count": null,
   "id": "efdd66b3-53a0-479b-bbc4-af03a704028a",
   "metadata": {},
   "outputs": [],
   "source": []
  }
 ],
 "metadata": {
  "kernelspec": {
   "display_name": "Python 3 (ipykernel)",
   "language": "python",
   "name": "python3"
  },
  "language_info": {
   "codemirror_mode": {
    "name": "ipython",
    "version": 3
   },
   "file_extension": ".py",
   "mimetype": "text/x-python",
   "name": "python",
   "nbconvert_exporter": "python",
   "pygments_lexer": "ipython3",
   "version": "3.12.3"
  }
 },
 "nbformat": 4,
 "nbformat_minor": 5
}
